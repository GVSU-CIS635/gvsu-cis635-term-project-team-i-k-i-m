{
  "nbformat": 4,
  "nbformat_minor": 0,
  "metadata": {
    "colab": {
      "provenance": [],
      "authorship_tag": "ABX9TyM1g/BJf/dvP6XLF9HRlH5o",
      "include_colab_link": true
    },
    "kernelspec": {
      "name": "python3",
      "display_name": "Python 3"
    },
    "language_info": {
      "name": "python"
    }
  },
  "cells": [
    {
      "cell_type": "markdown",
      "metadata": {
        "id": "view-in-github",
        "colab_type": "text"
      },
      "source": [
        "<a href=\"https://colab.research.google.com/github/GVSU-CIS635/gvsu-cis635-term-project-team-i-k-i-m/blob/main/Final_Project.ipynb\" target=\"_parent\"><img src=\"https://colab.research.google.com/assets/colab-badge.svg\" alt=\"Open In Colab\"/></a>"
      ]
    },
    {
      "cell_type": "code",
      "execution_count": 4,
      "metadata": {
        "colab": {
          "base_uri": "https://localhost:8080/"
        },
        "id": "GXbrH8rbPHvs",
        "outputId": "e69ef682-9a44-45c0-ffcd-1172ffcd75eb"
      },
      "outputs": [
        {
          "output_type": "stream",
          "name": "stdout",
          "text": [
            "Drive already mounted at /content/drive; to attempt to forcibly remount, call drive.mount(\"/content/drive\", force_remount=True).\n"
          ]
        }
      ],
      "source": [
        "# Load the Drive helper and mount\n",
        "from google.colab import drive\n",
        "drive.mount('/content/drive')"
      ]
    },
    {
      "cell_type": "code",
      "source": [
        "#Loading packages\n",
        "import numpy as np\n",
        "import pandas as pd\n",
        "import matplotlib.pyplot as plt"
      ],
      "metadata": {
        "id": "uQtWHDV8XM2D"
      },
      "execution_count": 8,
      "outputs": []
    },
    {
      "cell_type": "code",
      "source": [
        "#Loading the excel files from 2013-2016\n",
        "#data_12 = pd.read_csv('/content/drive/MyDrive/030112_123112_Data/NIJ2012_MAR01_DEC31.xlsx')\n",
        "data_13 = pd.read_excel('/content/drive/MyDrive/010113_123113_Data/NIJ2013_JAN01_DEC31.xlsx')\n",
        "data_14 = pd.read_excel('/content/drive/MyDrive/010114_123114_Data/NIJ2014_JAN01_DEC31.xlsx')\n",
        "data_15 = pd.read_excel('/content/drive/MyDrive/010115_123115_Data/NIJ2015_JAN01_DEC31.xlsx')\n",
        "data_16 = pd.read_excel('/content/drive/MyDrive/010116_073116_Data/NIJ2016_JAN01_JUL31.xlsx')"
      ],
      "metadata": {
        "id": "ktlAWKYUSpwD"
      },
      "execution_count": null,
      "outputs": []
    },
    {
      "cell_type": "code",
      "source": [
        "#checking the dimensions of the dataframes\n",
        "print(data_13.shape)\n",
        "print(data_14.shape)\n",
        "print(data_15.shape)\n",
        "print(data_16.shape)"
      ],
      "metadata": {
        "colab": {
          "base_uri": "https://localhost:8080/"
        },
        "id": "RSiYx-epW_Nx",
        "outputId": "f5f323a6-1fcd-420a-c0e1-83fe08ec7710"
      },
      "execution_count": 11,
      "outputs": [
        {
          "output_type": "stream",
          "name": "stdout",
          "text": [
            "(174046, 8)\n",
            "(188924, 8)\n",
            "(208083, 8)\n",
            "(120466, 8)\n"
          ]
        }
      ]
    },
    {
      "cell_type": "code",
      "source": [
        "#Checking the features in each dataset\n",
        "column_names13 = data_13.columns\n",
        "column_names14 = data_14.columns\n",
        "column_names15 = data_15.columns\n",
        "# Print the column names\n",
        "print(column_names13)\n",
        "print(column_names14)\n",
        "print(column_names15)"
      ],
      "metadata": {
        "colab": {
          "base_uri": "https://localhost:8080/"
        },
        "id": "6-_R7u4ZYRtw",
        "outputId": "51c86e7b-fafd-4a35-8222-f91ecbcf94ad"
      },
      "execution_count": 15,
      "outputs": [
        {
          "output_type": "stream",
          "name": "stdout",
          "text": [
            "Index(['CATEGORY', 'CALL GROUPS', 'final_case_type', 'CASE DESC', 'occ_date',\n",
            "       'x_coordinate', 'y_coordinate', 'census_tract'],\n",
            "      dtype='object')\n",
            "Index(['CATEGORY', 'CALL GROUPS', 'final_case_type', 'CASE DESC', 'occ_date',\n",
            "       'x_coordinate', 'y_coordinate', 'census_tract'],\n",
            "      dtype='object')\n",
            "Index(['CATEGORY', 'CALL GROUPS', 'final_case_type', 'CASE DESC', 'occ_date',\n",
            "       'x_coordinate', 'y_coordinate', 'census_tract'],\n",
            "      dtype='object')\n"
          ]
        }
      ]
    },
    {
      "cell_type": "code",
      "source": [
        "#We need to merge the data from 2013 and 2014 together whivh will be used to train our model\n",
        "train_data = pd.concat([data_13,data_14])\n",
        "print(f\"The training data has {train_data.shape[0]} rows and {train_data.shape[1]} attributes.\")\n",
        "train_data.head(5)\n"
      ],
      "metadata": {
        "id": "Eo125w6kZesB",
        "outputId": "1704501a-383e-438c-fb4f-29b3c7773e03",
        "colab": {
          "base_uri": "https://localhost:8080/",
          "height": 327
        }
      },
      "execution_count": 22,
      "outputs": [
        {
          "output_type": "stream",
          "name": "stdout",
          "text": [
            "The training data has 362970 rows and 8 attributes.\n"
          ]
        },
        {
          "output_type": "execute_result",
          "data": {
            "text/plain": [
              "        CATEGORY CALL GROUPS final_case_type  \\\n",
              "0  STREET CRIMES    DISORDER          DISTP    \n",
              "1  STREET CRIMES    DISORDER          DISTP    \n",
              "2  STREET CRIMES    DISORDER          DISTP    \n",
              "3  STREET CRIMES    DISORDER          DISTP    \n",
              "4  STREET CRIMES    DISORDER          DISTP    \n",
              "\n",
              "                                           CASE DESC   occ_date  x_coordinate  \\\n",
              "0  DISTURBANCE - PRIORITY                        ... 2013-01-01       7625659   \n",
              "1  DISTURBANCE - PRIORITY                        ... 2013-01-01       7628093   \n",
              "2  DISTURBANCE - PRIORITY                        ... 2013-01-01       7631900   \n",
              "3  DISTURBANCE - PRIORITY                        ... 2013-01-01       7643655   \n",
              "4  DISTURBANCE - PRIORITY                        ... 2013-01-01       7643778   \n",
              "\n",
              "   y_coordinate  census_tract  \n",
              "0        714714        4101.0  \n",
              "1        655826        6404.0  \n",
              "2        704307        4002.0  \n",
              "3        682985       10600.0  \n",
              "4        681457       10600.0  "
            ],
            "text/html": [
              "\n",
              "  <div id=\"df-d3c244c0-fe3f-4c0a-9e13-464676899d46\" class=\"colab-df-container\">\n",
              "    <div>\n",
              "<style scoped>\n",
              "    .dataframe tbody tr th:only-of-type {\n",
              "        vertical-align: middle;\n",
              "    }\n",
              "\n",
              "    .dataframe tbody tr th {\n",
              "        vertical-align: top;\n",
              "    }\n",
              "\n",
              "    .dataframe thead th {\n",
              "        text-align: right;\n",
              "    }\n",
              "</style>\n",
              "<table border=\"1\" class=\"dataframe\">\n",
              "  <thead>\n",
              "    <tr style=\"text-align: right;\">\n",
              "      <th></th>\n",
              "      <th>CATEGORY</th>\n",
              "      <th>CALL GROUPS</th>\n",
              "      <th>final_case_type</th>\n",
              "      <th>CASE DESC</th>\n",
              "      <th>occ_date</th>\n",
              "      <th>x_coordinate</th>\n",
              "      <th>y_coordinate</th>\n",
              "      <th>census_tract</th>\n",
              "    </tr>\n",
              "  </thead>\n",
              "  <tbody>\n",
              "    <tr>\n",
              "      <th>0</th>\n",
              "      <td>STREET CRIMES</td>\n",
              "      <td>DISORDER</td>\n",
              "      <td>DISTP</td>\n",
              "      <td>DISTURBANCE - PRIORITY                        ...</td>\n",
              "      <td>2013-01-01</td>\n",
              "      <td>7625659</td>\n",
              "      <td>714714</td>\n",
              "      <td>4101.0</td>\n",
              "    </tr>\n",
              "    <tr>\n",
              "      <th>1</th>\n",
              "      <td>STREET CRIMES</td>\n",
              "      <td>DISORDER</td>\n",
              "      <td>DISTP</td>\n",
              "      <td>DISTURBANCE - PRIORITY                        ...</td>\n",
              "      <td>2013-01-01</td>\n",
              "      <td>7628093</td>\n",
              "      <td>655826</td>\n",
              "      <td>6404.0</td>\n",
              "    </tr>\n",
              "    <tr>\n",
              "      <th>2</th>\n",
              "      <td>STREET CRIMES</td>\n",
              "      <td>DISORDER</td>\n",
              "      <td>DISTP</td>\n",
              "      <td>DISTURBANCE - PRIORITY                        ...</td>\n",
              "      <td>2013-01-01</td>\n",
              "      <td>7631900</td>\n",
              "      <td>704307</td>\n",
              "      <td>4002.0</td>\n",
              "    </tr>\n",
              "    <tr>\n",
              "      <th>3</th>\n",
              "      <td>STREET CRIMES</td>\n",
              "      <td>DISORDER</td>\n",
              "      <td>DISTP</td>\n",
              "      <td>DISTURBANCE - PRIORITY                        ...</td>\n",
              "      <td>2013-01-01</td>\n",
              "      <td>7643655</td>\n",
              "      <td>682985</td>\n",
              "      <td>10600.0</td>\n",
              "    </tr>\n",
              "    <tr>\n",
              "      <th>4</th>\n",
              "      <td>STREET CRIMES</td>\n",
              "      <td>DISORDER</td>\n",
              "      <td>DISTP</td>\n",
              "      <td>DISTURBANCE - PRIORITY                        ...</td>\n",
              "      <td>2013-01-01</td>\n",
              "      <td>7643778</td>\n",
              "      <td>681457</td>\n",
              "      <td>10600.0</td>\n",
              "    </tr>\n",
              "  </tbody>\n",
              "</table>\n",
              "</div>\n",
              "    <div class=\"colab-df-buttons\">\n",
              "\n",
              "  <div class=\"colab-df-container\">\n",
              "    <button class=\"colab-df-convert\" onclick=\"convertToInteractive('df-d3c244c0-fe3f-4c0a-9e13-464676899d46')\"\n",
              "            title=\"Convert this dataframe to an interactive table.\"\n",
              "            style=\"display:none;\">\n",
              "\n",
              "  <svg xmlns=\"http://www.w3.org/2000/svg\" height=\"24px\" viewBox=\"0 -960 960 960\">\n",
              "    <path d=\"M120-120v-720h720v720H120Zm60-500h600v-160H180v160Zm220 220h160v-160H400v160Zm0 220h160v-160H400v160ZM180-400h160v-160H180v160Zm440 0h160v-160H620v160ZM180-180h160v-160H180v160Zm440 0h160v-160H620v160Z\"/>\n",
              "  </svg>\n",
              "    </button>\n",
              "\n",
              "  <style>\n",
              "    .colab-df-container {\n",
              "      display:flex;\n",
              "      gap: 12px;\n",
              "    }\n",
              "\n",
              "    .colab-df-convert {\n",
              "      background-color: #E8F0FE;\n",
              "      border: none;\n",
              "      border-radius: 50%;\n",
              "      cursor: pointer;\n",
              "      display: none;\n",
              "      fill: #1967D2;\n",
              "      height: 32px;\n",
              "      padding: 0 0 0 0;\n",
              "      width: 32px;\n",
              "    }\n",
              "\n",
              "    .colab-df-convert:hover {\n",
              "      background-color: #E2EBFA;\n",
              "      box-shadow: 0px 1px 2px rgba(60, 64, 67, 0.3), 0px 1px 3px 1px rgba(60, 64, 67, 0.15);\n",
              "      fill: #174EA6;\n",
              "    }\n",
              "\n",
              "    .colab-df-buttons div {\n",
              "      margin-bottom: 4px;\n",
              "    }\n",
              "\n",
              "    [theme=dark] .colab-df-convert {\n",
              "      background-color: #3B4455;\n",
              "      fill: #D2E3FC;\n",
              "    }\n",
              "\n",
              "    [theme=dark] .colab-df-convert:hover {\n",
              "      background-color: #434B5C;\n",
              "      box-shadow: 0px 1px 3px 1px rgba(0, 0, 0, 0.15);\n",
              "      filter: drop-shadow(0px 1px 2px rgba(0, 0, 0, 0.3));\n",
              "      fill: #FFFFFF;\n",
              "    }\n",
              "  </style>\n",
              "\n",
              "    <script>\n",
              "      const buttonEl =\n",
              "        document.querySelector('#df-d3c244c0-fe3f-4c0a-9e13-464676899d46 button.colab-df-convert');\n",
              "      buttonEl.style.display =\n",
              "        google.colab.kernel.accessAllowed ? 'block' : 'none';\n",
              "\n",
              "      async function convertToInteractive(key) {\n",
              "        const element = document.querySelector('#df-d3c244c0-fe3f-4c0a-9e13-464676899d46');\n",
              "        const dataTable =\n",
              "          await google.colab.kernel.invokeFunction('convertToInteractive',\n",
              "                                                    [key], {});\n",
              "        if (!dataTable) return;\n",
              "\n",
              "        const docLinkHtml = 'Like what you see? Visit the ' +\n",
              "          '<a target=\"_blank\" href=https://colab.research.google.com/notebooks/data_table.ipynb>data table notebook</a>'\n",
              "          + ' to learn more about interactive tables.';\n",
              "        element.innerHTML = '';\n",
              "        dataTable['output_type'] = 'display_data';\n",
              "        await google.colab.output.renderOutput(dataTable, element);\n",
              "        const docLink = document.createElement('div');\n",
              "        docLink.innerHTML = docLinkHtml;\n",
              "        element.appendChild(docLink);\n",
              "      }\n",
              "    </script>\n",
              "  </div>\n",
              "\n",
              "\n",
              "<div id=\"df-2418f966-37a9-48cf-ac8f-95435dfd2666\">\n",
              "  <button class=\"colab-df-quickchart\" onclick=\"quickchart('df-2418f966-37a9-48cf-ac8f-95435dfd2666')\"\n",
              "            title=\"Suggest charts\"\n",
              "            style=\"display:none;\">\n",
              "\n",
              "<svg xmlns=\"http://www.w3.org/2000/svg\" height=\"24px\"viewBox=\"0 0 24 24\"\n",
              "     width=\"24px\">\n",
              "    <g>\n",
              "        <path d=\"M19 3H5c-1.1 0-2 .9-2 2v14c0 1.1.9 2 2 2h14c1.1 0 2-.9 2-2V5c0-1.1-.9-2-2-2zM9 17H7v-7h2v7zm4 0h-2V7h2v10zm4 0h-2v-4h2v4z\"/>\n",
              "    </g>\n",
              "</svg>\n",
              "  </button>\n",
              "\n",
              "<style>\n",
              "  .colab-df-quickchart {\n",
              "      --bg-color: #E8F0FE;\n",
              "      --fill-color: #1967D2;\n",
              "      --hover-bg-color: #E2EBFA;\n",
              "      --hover-fill-color: #174EA6;\n",
              "      --disabled-fill-color: #AAA;\n",
              "      --disabled-bg-color: #DDD;\n",
              "  }\n",
              "\n",
              "  [theme=dark] .colab-df-quickchart {\n",
              "      --bg-color: #3B4455;\n",
              "      --fill-color: #D2E3FC;\n",
              "      --hover-bg-color: #434B5C;\n",
              "      --hover-fill-color: #FFFFFF;\n",
              "      --disabled-bg-color: #3B4455;\n",
              "      --disabled-fill-color: #666;\n",
              "  }\n",
              "\n",
              "  .colab-df-quickchart {\n",
              "    background-color: var(--bg-color);\n",
              "    border: none;\n",
              "    border-radius: 50%;\n",
              "    cursor: pointer;\n",
              "    display: none;\n",
              "    fill: var(--fill-color);\n",
              "    height: 32px;\n",
              "    padding: 0;\n",
              "    width: 32px;\n",
              "  }\n",
              "\n",
              "  .colab-df-quickchart:hover {\n",
              "    background-color: var(--hover-bg-color);\n",
              "    box-shadow: 0 1px 2px rgba(60, 64, 67, 0.3), 0 1px 3px 1px rgba(60, 64, 67, 0.15);\n",
              "    fill: var(--button-hover-fill-color);\n",
              "  }\n",
              "\n",
              "  .colab-df-quickchart-complete:disabled,\n",
              "  .colab-df-quickchart-complete:disabled:hover {\n",
              "    background-color: var(--disabled-bg-color);\n",
              "    fill: var(--disabled-fill-color);\n",
              "    box-shadow: none;\n",
              "  }\n",
              "\n",
              "  .colab-df-spinner {\n",
              "    border: 2px solid var(--fill-color);\n",
              "    border-color: transparent;\n",
              "    border-bottom-color: var(--fill-color);\n",
              "    animation:\n",
              "      spin 1s steps(1) infinite;\n",
              "  }\n",
              "\n",
              "  @keyframes spin {\n",
              "    0% {\n",
              "      border-color: transparent;\n",
              "      border-bottom-color: var(--fill-color);\n",
              "      border-left-color: var(--fill-color);\n",
              "    }\n",
              "    20% {\n",
              "      border-color: transparent;\n",
              "      border-left-color: var(--fill-color);\n",
              "      border-top-color: var(--fill-color);\n",
              "    }\n",
              "    30% {\n",
              "      border-color: transparent;\n",
              "      border-left-color: var(--fill-color);\n",
              "      border-top-color: var(--fill-color);\n",
              "      border-right-color: var(--fill-color);\n",
              "    }\n",
              "    40% {\n",
              "      border-color: transparent;\n",
              "      border-right-color: var(--fill-color);\n",
              "      border-top-color: var(--fill-color);\n",
              "    }\n",
              "    60% {\n",
              "      border-color: transparent;\n",
              "      border-right-color: var(--fill-color);\n",
              "    }\n",
              "    80% {\n",
              "      border-color: transparent;\n",
              "      border-right-color: var(--fill-color);\n",
              "      border-bottom-color: var(--fill-color);\n",
              "    }\n",
              "    90% {\n",
              "      border-color: transparent;\n",
              "      border-bottom-color: var(--fill-color);\n",
              "    }\n",
              "  }\n",
              "</style>\n",
              "\n",
              "  <script>\n",
              "    async function quickchart(key) {\n",
              "      const quickchartButtonEl =\n",
              "        document.querySelector('#' + key + ' button');\n",
              "      quickchartButtonEl.disabled = true;  // To prevent multiple clicks.\n",
              "      quickchartButtonEl.classList.add('colab-df-spinner');\n",
              "      try {\n",
              "        const charts = await google.colab.kernel.invokeFunction(\n",
              "            'suggestCharts', [key], {});\n",
              "      } catch (error) {\n",
              "        console.error('Error during call to suggestCharts:', error);\n",
              "      }\n",
              "      quickchartButtonEl.classList.remove('colab-df-spinner');\n",
              "      quickchartButtonEl.classList.add('colab-df-quickchart-complete');\n",
              "    }\n",
              "    (() => {\n",
              "      let quickchartButtonEl =\n",
              "        document.querySelector('#df-2418f966-37a9-48cf-ac8f-95435dfd2666 button');\n",
              "      quickchartButtonEl.style.display =\n",
              "        google.colab.kernel.accessAllowed ? 'block' : 'none';\n",
              "    })();\n",
              "  </script>\n",
              "</div>\n",
              "    </div>\n",
              "  </div>\n"
            ]
          },
          "metadata": {},
          "execution_count": 22
        }
      ]
    },
    {
      "cell_type": "code",
      "source": [
        "import matplotlib.pyplot as plt\n",
        "import matplotlib.pyplot as plt\n",
        "\n",
        "\n",
        "\n",
        "# Plotting the map\n",
        "train_data.plot(kind='scatter', x='x_coordinate', y='y_coordinate', marker='o', color='blue', label='Points')\n",
        "plt.title('Map of the Area')\n",
        "plt.xlabel('X Coordinates')\n",
        "plt.ylabel('Y Coordinates')\n",
        "plt.legend()\n",
        "plt.grid(True)\n",
        "plt.show()\n",
        "\n"
      ],
      "metadata": {
        "id": "MMvlr3X9jKRM",
        "outputId": "034b145f-21aa-40ef-a36c-648472ff85b1",
        "colab": {
          "base_uri": "https://localhost:8080/",
          "height": 472
        }
      },
      "execution_count": 32,
      "outputs": [
        {
          "output_type": "display_data",
          "data": {
            "text/plain": [
              "<Figure size 640x480 with 1 Axes>"
            ],
            "image/png": "[encoded data removed]"
          },
          "metadata": {}
        }
      ]
    },
    {
      "cell_type": "code",
      "source": [
        "# Plot of the portland area under study\n",
        "import geopandas as gpd\n",
        "#importing the shapefiles\n",
        "sf_13 = ('/content/drive/MyDrive/010113_123113_Data/NIJ2013_JAN01_DEC31.shp')\n",
        "gdp_13 = gpd.read_file(sf_13)\n"
      ],
      "metadata": {
        "id": "rTMclgAcfnVZ"
      },
      "execution_count": 29,
      "outputs": []
    },
    {
      "cell_type": "code",
      "source": [
        "gdp_13.head"
      ],
      "metadata": {
        "id": "czxRz88diG82",
        "outputId": "db4910e4-2645-4df7-ed9f-24c6abbf71c3",
        "colab": {
          "base_uri": "https://localhost:8080/"
        }
      },
      "execution_count": 30,
      "outputs": [
        {
          "output_type": "execute_result",
          "data": {
            "text/plain": [
              "<bound method NDFrame.head of              CATEGORY      CALL_GROUP final_case               CASE_DESC  \\\n",
              "0       STREET CRIMES        DISORDER      DISTP  DISTURBANCE - PRIORITY   \n",
              "1       STREET CRIMES        DISORDER      DISTP  DISTURBANCE - PRIORITY   \n",
              "2       STREET CRIMES        DISORDER      DISTP  DISTURBANCE - PRIORITY   \n",
              "3       STREET CRIMES        DISORDER      DISTP  DISTURBANCE - PRIORITY   \n",
              "4       STREET CRIMES        DISORDER      DISTP  DISTURBANCE - PRIORITY   \n",
              "...               ...             ...        ...                     ...   \n",
              "174041       BURGLARY  PROPERTY CRIME      BURGP  BURGLARY - PRIORITY *H   \n",
              "174042       BURGLARY  PROPERTY CRIME      BURGP  BURGLARY - PRIORITY *H   \n",
              "174043       BURGLARY  PROPERTY CRIME      BURGP  BURGLARY - PRIORITY *H   \n",
              "174044       BURGLARY  PROPERTY CRIME      BURGP  BURGLARY - PRIORITY *H   \n",
              "174045       BURGLARY  PROPERTY CRIME      BURGP  BURGLARY - PRIORITY *H   \n",
              "\n",
              "          occ_date  x_coordina  y_coordina  census_tra  \\\n",
              "0       2013-01-01   7625659.0    714714.0      4101.0   \n",
              "1       2013-01-01   7628093.0    655826.0      6404.0   \n",
              "2       2013-01-01   7631900.0    704307.0      4002.0   \n",
              "3       2013-01-01   7643655.0    682985.0     10600.0   \n",
              "4       2013-01-01   7643778.0    681457.0     10600.0   \n",
              "...            ...         ...         ...         ...   \n",
              "174041  2013-12-28   7664520.0    687237.0      2902.0   \n",
              "174042  2013-12-29   7625736.0    711231.0      4101.0   \n",
              "174043  2013-12-29   7640461.0    667121.0      6002.0   \n",
              "174044  2013-12-29   7663333.0    674064.0       702.0   \n",
              "174045  2013-12-30   7678223.0    677807.0      8202.0   \n",
              "\n",
              "                              geometry  \n",
              "0       POINT (7625659.000 714714.000)  \n",
              "1       POINT (7628093.000 655826.000)  \n",
              "2       POINT (7631900.000 704307.000)  \n",
              "3       POINT (7643655.000 682985.000)  \n",
              "4       POINT (7643778.000 681457.000)  \n",
              "...                                ...  \n",
              "174041  POINT (7664520.000 687237.000)  \n",
              "174042  POINT (7625736.000 711231.000)  \n",
              "174043  POINT (7640461.000 667121.000)  \n",
              "174044  POINT (7663333.000 674064.000)  \n",
              "174045  POINT (7678223.000 677807.000)  \n",
              "\n",
              "[174046 rows x 9 columns]>"
            ]
          },
          "metadata": {},
          "execution_count": 30
        }
      ]
    },
    {
      "cell_type": "code",
      "source": [
        "gdp_13.plot()"
      ],
      "metadata": {
        "id": "nAgK_lZciZ80",
        "outputId": "d7730d99-2ddd-4b45-9d32-e4d84841a07c",
        "colab": {
          "base_uri": "https://localhost:8080/",
          "height": 465
        }
      },
      "execution_count": 31,
      "outputs": [
        {
          "output_type": "execute_result",
          "data": {
            "text/plain": [
              "<Axes: >"
            ]
          },
          "metadata": {},
          "execution_count": 31
        },
        {
          "output_type": "display_data",
          "data": {
            "text/plain": [
              "<Figure size 640x480 with 1 Axes>"
            ],
            "image/png": "[encoded data removed]"
          },
          "metadata": {}
        }
      ]
    }
  ]
}